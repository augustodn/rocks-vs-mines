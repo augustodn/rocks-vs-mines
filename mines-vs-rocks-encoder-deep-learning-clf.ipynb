{
 "cells": [
  {
   "cell_type": "markdown",
   "metadata": {},
   "source": [
    "# 1. Setup\n",
    "Initializing useful libraries"
   ]
  },
  {
   "cell_type": "code",
   "execution_count": 1,
   "metadata": {
    "execution": {
     "iopub.execute_input": "2021-06-14T22:02:05.925782Z",
     "iopub.status.busy": "2021-06-14T22:02:05.925412Z",
     "iopub.status.idle": "2021-06-14T22:02:05.933205Z",
     "shell.execute_reply": "2021-06-14T22:02:05.932363Z",
     "shell.execute_reply.started": "2021-06-14T22:02:05.925754Z"
    }
   },
   "outputs": [
    {
     "name": "stdout",
     "output_type": "stream",
     "text": [
      "INFO:tensorflow:Enabling eager execution\n",
      "INFO:tensorflow:Enabling v2 tensorshape\n",
      "INFO:tensorflow:Enabling resource variables\n",
      "INFO:tensorflow:Enabling tensor equality\n",
      "INFO:tensorflow:Enabling control flow v2\n"
     ]
    }
   ],
   "source": [
    "# General import\n",
    "import pandas as pd\n",
    "import numpy as np\n",
    "import seaborn as sns\n",
    "import matplotlib.pyplot as plt\n",
    "from sklearn.model_selection import train_test_split\n",
    "from keras import layers\n",
    "from keras import Model\n",
    "from keras import Sequential\n",
    "from tensorflow.keras.models import load_model\n",
    "from tensorflow.keras.callbacks import EarlyStopping\n",
    "from tensorflow.math import confusion_matrix\n",
    "from sklearn.linear_model import LogisticRegression\n",
    "from sklearn.metrics import accuracy_score\n",
    "from sklearn import preprocessing\n",
    "\n",
    "# Import classification models\n",
    "from sklearn import tree\n",
    "from sklearn.linear_model import LogisticRegression\n",
    "from sklearn.neighbors import KNeighborsClassifier\n",
    "from sklearn.svm import SVC\n",
    "from sklearn.ensemble import RandomForestClassifier\n",
    "from sklearn.naive_bayes import GaussianNB\n",
    "from xgboost import XGBClassifier\n",
    "from sklearn import model_selection\n",
    "from sklearn.metrics import classification_report\n",
    "from sklearn.metrics import roc_auc_score\n",
    "# from sklearn.metrics import ConfusionMatrixDisplay\n",
    "# from sklearn.metrics import confusion_matrix"
   ]
  },
  {
   "cell_type": "markdown",
   "metadata": {},
   "source": [
    "## 1.1 Let's define some helper functions"
   ]
  },
  {
   "cell_type": "code",
   "execution_count": 2,
   "metadata": {
    "execution": {
     "iopub.execute_input": "2021-06-15T22:38:32.037053Z",
     "iopub.status.busy": "2021-06-15T22:38:32.036525Z",
     "iopub.status.idle": "2021-06-15T22:38:32.054692Z",
     "shell.execute_reply": "2021-06-15T22:38:32.053121Z",
     "shell.execute_reply.started": "2021-06-15T22:38:32.036949Z"
    }
   },
   "outputs": [],
   "source": [
    "def plot_loss_accuracy(history):\n",
    "    fig, axes = plt.subplots(1, 2, figsize=(10,5))\n",
    "    axes[0].plot(history.history['loss'], label='train')\n",
    "    axes[0].plot(history.history['val_loss'], label='test')\n",
    "    axes[0].legend()\n",
    "    axes[0].title.set_text('Loss')\n",
    "    axes[1].plot(history.history['accuracy'], label='train')\n",
    "    axes[1].plot(history.history['val_accuracy'], label='test')\n",
    "    axes[1].title.set_text('Accuracy')\n",
    "    axes[1].legend()\n",
    "\n",
    "    fig.show()\n",
    "    \n",
    "    \n",
    "def plot_confusion_matrix(cm, target_classes):\n",
    "    cm_df = pd.DataFrame(\n",
    "        cm,\n",
    "        index = target_classes, \n",
    "        columns = target_classes)\n",
    "\n",
    "    figure = plt.figure(figsize=(5, 5))\n",
    "    sns.heatmap(cm_df, annot=True, cmap=plt.cm.Blues)\n",
    "    plt.tight_layout()\n",
    "    plt.ylabel('True label')\n",
    "    plt.xlabel('Predicted label')\n",
    "    plt.show()"
   ]
  },
  {
   "cell_type": "markdown",
   "metadata": {},
   "source": [
    "# 2. Splitting the Dataset and Loading the Encoder\n",
    "We'll load the encoder which was trained in the previous [notebook](https://www.kaggle.com/augustodenevreze/mines-vs-rocks-autoencoder-for-feat-extraction/). For sake of simplicity, the encoder training was done in the aforementioned notebook. Should not be the case, the model training will take hours!\n",
    "\n",
    "We'll generate the reduced dimensionality representation of the inputs (10 inputs instead of 60) with\n",
    "\n",
    "```X_encode = encoder.predict(X)```"
   ]
  },
  {
   "cell_type": "code",
   "execution_count": 5,
   "metadata": {
    "execution": {
     "iopub.execute_input": "2021-06-14T21:10:32.396822Z",
     "iopub.status.busy": "2021-06-14T21:10:32.396518Z",
     "iopub.status.idle": "2021-06-14T21:10:32.99874Z",
     "shell.execute_reply": "2021-06-14T21:10:32.997751Z",
     "shell.execute_reply.started": "2021-06-14T21:10:32.396791Z"
    }
   },
   "outputs": [
    {
     "name": "stdout",
     "output_type": "stream",
     "text": [
      "WARNING:tensorflow:No training configuration found in the save file, so the model was *not* compiled. Compile it manually.\n"
     ]
    }
   ],
   "source": [
    "sonar = pd.read_csv('sonar.all-data.csv', header=None)\n",
    "\n",
    "# There is some correlation between some variables, for so the dataset is\n",
    "# candidate for dimensionality reduction\n",
    "\n",
    "X = sonar.loc[:,:59]\n",
    "y = sonar.loc[:,60]\n",
    "le = preprocessing.LabelEncoder()\n",
    "le.fit(y)\n",
    "y = le.transform(y)\n",
    "target_names = le.classes_\n",
    "\n",
    "# Split data\n",
    "X_train, X_test, y_train, y_test = train_test_split(\n",
    "    X, y, test_size=0.2, random_state=1)\n",
    "\n",
    "encoder = load_model('./encoder.h5')\n",
    "\n",
    "# Perform Feature Extraction/Dimensionality Reduction with trained autoencoder\n",
    "X_encode = encoder.predict(X)\n",
    "X_train_encode = encoder.predict(X_train)\n",
    "X_test_encode = encoder.predict(X_test)\n",
    "n_obs, n_inputs = X_train_encode.shape"
   ]
  },
  {
   "cell_type": "markdown",
   "metadata": {},
   "source": [
    "# 3.Classical Machine Learning Models Training\n",
    "We'll instatiate several Machine Learning models and train them to compare the results with a baseline."
   ]
  },
  {
   "cell_type": "code",
   "execution_count": 6,
   "metadata": {
    "execution": {
     "iopub.execute_input": "2021-06-14T21:10:33.000759Z",
     "iopub.status.busy": "2021-06-14T21:10:33.000431Z",
     "iopub.status.idle": "2021-06-14T21:10:34.624246Z",
     "shell.execute_reply": "2021-06-14T21:10:34.623391Z",
     "shell.execute_reply.started": "2021-06-14T21:10:33.000718Z"
    }
   },
   "outputs": [
    {
     "data": {
      "text/html": [
       "<div>\n",
       "<style scoped>\n",
       "    .dataframe tbody tr th:only-of-type {\n",
       "        vertical-align: middle;\n",
       "    }\n",
       "\n",
       "    .dataframe tbody tr th {\n",
       "        vertical-align: top;\n",
       "    }\n",
       "\n",
       "    .dataframe thead th {\n",
       "        text-align: right;\n",
       "    }\n",
       "</style>\n",
       "<table border=\"1\" class=\"dataframe\">\n",
       "  <thead>\n",
       "    <tr style=\"text-align: right;\">\n",
       "      <th></th>\n",
       "      <th>fit_time</th>\n",
       "      <th>score_time</th>\n",
       "      <th>test_accuracy</th>\n",
       "      <th>test_precision_weighted</th>\n",
       "      <th>test_recall_weighted</th>\n",
       "      <th>test_f1_weighted</th>\n",
       "      <th>test_roc_auc</th>\n",
       "    </tr>\n",
       "    <tr>\n",
       "      <th>model</th>\n",
       "      <th></th>\n",
       "      <th></th>\n",
       "      <th></th>\n",
       "      <th></th>\n",
       "      <th></th>\n",
       "      <th></th>\n",
       "      <th></th>\n",
       "    </tr>\n",
       "  </thead>\n",
       "  <tbody>\n",
       "    <tr>\n",
       "      <th>DT</th>\n",
       "      <td>0.000875</td>\n",
       "      <td>0.002601</td>\n",
       "      <td>0.740642</td>\n",
       "      <td>0.753391</td>\n",
       "      <td>0.740642</td>\n",
       "      <td>0.740804</td>\n",
       "      <td>0.744946</td>\n",
       "    </tr>\n",
       "    <tr>\n",
       "      <th>GNB</th>\n",
       "      <td>0.000550</td>\n",
       "      <td>0.002710</td>\n",
       "      <td>0.717112</td>\n",
       "      <td>0.730589</td>\n",
       "      <td>0.717112</td>\n",
       "      <td>0.712938</td>\n",
       "      <td>0.780314</td>\n",
       "    </tr>\n",
       "    <tr>\n",
       "      <th>KNN</th>\n",
       "      <td>0.000472</td>\n",
       "      <td>0.005151</td>\n",
       "      <td>0.741176</td>\n",
       "      <td>0.743532</td>\n",
       "      <td>0.741176</td>\n",
       "      <td>0.734224</td>\n",
       "      <td>0.812588</td>\n",
       "    </tr>\n",
       "    <tr>\n",
       "      <th>LogReg</th>\n",
       "      <td>0.007577</td>\n",
       "      <td>0.003230</td>\n",
       "      <td>0.795365</td>\n",
       "      <td>0.798035</td>\n",
       "      <td>0.795365</td>\n",
       "      <td>0.795599</td>\n",
       "      <td>0.818582</td>\n",
       "    </tr>\n",
       "    <tr>\n",
       "      <th>RF</th>\n",
       "      <td>0.095034</td>\n",
       "      <td>0.016995</td>\n",
       "      <td>0.807308</td>\n",
       "      <td>0.817351</td>\n",
       "      <td>0.807308</td>\n",
       "      <td>0.805175</td>\n",
       "      <td>0.898594</td>\n",
       "    </tr>\n",
       "    <tr>\n",
       "      <th>SVM</th>\n",
       "      <td>0.003007</td>\n",
       "      <td>0.003107</td>\n",
       "      <td>0.747059</td>\n",
       "      <td>0.767286</td>\n",
       "      <td>0.747059</td>\n",
       "      <td>0.739639</td>\n",
       "      <td>0.838407</td>\n",
       "    </tr>\n",
       "    <tr>\n",
       "      <th>XGB</th>\n",
       "      <td>0.024915</td>\n",
       "      <td>0.007748</td>\n",
       "      <td>0.807487</td>\n",
       "      <td>0.808559</td>\n",
       "      <td>0.807487</td>\n",
       "      <td>0.806610</td>\n",
       "      <td>0.869893</td>\n",
       "    </tr>\n",
       "  </tbody>\n",
       "</table>\n",
       "</div>"
      ],
      "text/plain": [
       "        fit_time  score_time  test_accuracy  test_precision_weighted  \\\n",
       "model                                                                  \n",
       "DT      0.000875    0.002601       0.740642                 0.753391   \n",
       "GNB     0.000550    0.002710       0.717112                 0.730589   \n",
       "KNN     0.000472    0.005151       0.741176                 0.743532   \n",
       "LogReg  0.007577    0.003230       0.795365                 0.798035   \n",
       "RF      0.095034    0.016995       0.807308                 0.817351   \n",
       "SVM     0.003007    0.003107       0.747059                 0.767286   \n",
       "XGB     0.024915    0.007748       0.807487                 0.808559   \n",
       "\n",
       "        test_recall_weighted  test_f1_weighted  test_roc_auc  \n",
       "model                                                         \n",
       "DT                  0.740642          0.740804      0.744946  \n",
       "GNB                 0.717112          0.712938      0.780314  \n",
       "KNN                 0.741176          0.734224      0.812588  \n",
       "LogReg              0.795365          0.795599      0.818582  \n",
       "RF                  0.807308          0.805175      0.898594  \n",
       "SVM                 0.747059          0.739639      0.838407  \n",
       "XGB                 0.807487          0.806610      0.869893  "
      ]
     },
     "execution_count": 6,
     "metadata": {},
     "output_type": "execute_result"
    }
   ],
   "source": [
    "models = [\n",
    "    ('LogReg', LogisticRegression()),\n",
    "    ('DT', tree.DecisionTreeClassifier()),\n",
    "    ('RF', RandomForestClassifier()),\n",
    "    ('KNN', KNeighborsClassifier()),\n",
    "    ('SVM', SVC(probability=True)),\n",
    "    ('GNB', GaussianNB()),\n",
    "    ('XGB', XGBClassifier(verbosity=0, use_label_encoder=False))\n",
    "]\n",
    "\n",
    "target_names = le.classes_\n",
    "\n",
    "scoring = ['accuracy', 'precision_weighted', 'recall_weighted', 'f1_weighted', 'roc_auc']\n",
    "results = []\n",
    "names = []\n",
    "model_cv_results = []\n",
    "for name, model in models:\n",
    "    kfold = model_selection.KFold(n_splits=5, shuffle=True, random_state=1986)\n",
    "    cv_result = model_selection.cross_validate(model, X_train_encode, y_train,\n",
    "                                               cv=kfold, scoring=scoring)\n",
    "\n",
    "    results.append(cv_result)\n",
    "    names.append(name)\n",
    "\n",
    "    df = pd.DataFrame(cv_result)\n",
    "    df['model'] = name\n",
    "    model_cv_results.append(df)\n",
    "\n",
    "model_cv_results = pd.concat(model_cv_results, ignore_index=True)\n",
    "model_cv_results.groupby(['model']).mean()"
   ]
  },
  {
   "cell_type": "markdown",
   "metadata": {},
   "source": [
    "# 3.1 Building the Neural Network for Binary Classification\n",
    "\n",
    "Now it's the time to build the classification neural network and train it."
   ]
  },
  {
   "cell_type": "code",
   "execution_count": 13,
   "metadata": {
    "execution": {
     "iopub.execute_input": "2021-06-14T22:36:00.464927Z",
     "iopub.status.busy": "2021-06-14T22:36:00.464452Z",
     "iopub.status.idle": "2021-06-14T22:36:26.518026Z",
     "shell.execute_reply": "2021-06-14T22:36:26.517048Z",
     "shell.execute_reply.started": "2021-06-14T22:36:00.464896Z"
    }
   },
   "outputs": [
    {
     "name": "stdout",
     "output_type": "stream",
     "text": [
      "Validation accuracy: 0.8809523582458496\n"
     ]
    }
   ],
   "source": [
    "# Using EarlyStopper to avoid overfitting\n",
    "callback = EarlyStopping(monitor='val_loss', patience=400, restore_best_weights=True)\n",
    "# Model a Binary classifier\n",
    "model_encoded = Sequential()\n",
    "model_encoded.add(layers.Dense(8, input_dim=n_inputs, activation='relu'))\n",
    "model_encoded.add(layers.Dense(5, activation='relu'))\n",
    "model_encoded.add(layers.Dense(3, activation='relu'))\n",
    "model_encoded.add(layers.Dense(1, activation='sigmoid'))\n",
    "# Define optimizer and loss function\n",
    "model_encoded.compile(loss='binary_crossentropy', optimizer='adam', metrics=['accuracy'])\n",
    "# Train the model\n",
    "history_encoded = model_encoded.fit(X_train_encode, y_train, epochs=1000, batch_size=n_obs,\n",
    "                                    validation_data=(X_test_encode, y_test), verbose=0,\n",
    "                                    callbacks=[callback])\n",
    "\n",
    "print(f\"Validation accuracy: {history_encoded.history['val_accuracy'][-1]}\")"
   ]
  },
  {
   "cell_type": "markdown",
   "metadata": {
    "execution": {
     "iopub.execute_input": "2021-06-14T22:36:30.427103Z",
     "iopub.status.busy": "2021-06-14T22:36:30.426738Z",
     "iopub.status.idle": "2021-06-14T22:36:30.433956Z",
     "shell.execute_reply": "2021-06-14T22:36:30.43317Z",
     "shell.execute_reply.started": "2021-06-14T22:36:30.427068Z"
    }
   },
   "source": [
    "Now we can plot the training results with the validation set. A comment here, in this notebook and the other, we're using test and validation interchangeably. In both cases the dataset mentioned is a subset which has never been used for training. Sometimes, while dealing with classic ML algorithms the regular convention is to referto this subset as the test one (such is the name of the splitting sklearn method) but in deep learning nomenclature, the term used generally is validation. Since the testing subset is used for loss calculation during the model training."
   ]
  },
  {
   "cell_type": "code",
   "execution_count": 14,
   "metadata": {
    "execution": {
     "iopub.execute_input": "2021-06-14T22:36:34.006357Z",
     "iopub.status.busy": "2021-06-14T22:36:34.005925Z",
     "iopub.status.idle": "2021-06-14T22:36:34.318561Z",
     "shell.execute_reply": "2021-06-14T22:36:34.317442Z",
     "shell.execute_reply.started": "2021-06-14T22:36:34.006303Z"
    }
   },
   "outputs": [
    {
     "name": "stderr",
     "output_type": "stream",
     "text": [
      "<ipython-input-2-1eb6ec933d2b>:12: UserWarning: Matplotlib is currently using module://ipykernel.pylab.backend_inline, which is a non-GUI backend, so cannot show the figure.\n",
      "  fig.show()\n"
     ]
    },
    {
     "data": {
      "image/png": "[encoded data removed]",
      "text/plain": [
       "<Figure size 720x360 with 2 Axes>"
      ]
     },
     "metadata": {
      "needs_background": "light"
     },
     "output_type": "display_data"
    }
   ],
   "source": [
    "plot_loss_accuracy(history_encoded)"
   ]
  },
  {
   "cell_type": "markdown",
   "metadata": {},
   "source": [
    "# 3.2 Comparing the Results with a not Compressed Input Representation\n",
    "\n",
    "Now, let's train another model with the 60 non compressed inputs and compare the results. In this way, we'll see if the model accuracy is positively affected by the use of an autoencoder."
   ]
  },
  {
   "cell_type": "code",
   "execution_count": 15,
   "metadata": {
    "execution": {
     "iopub.execute_input": "2021-06-14T22:40:42.853441Z",
     "iopub.status.busy": "2021-06-14T22:40:42.852956Z",
     "iopub.status.idle": "2021-06-14T22:40:51.013094Z",
     "shell.execute_reply": "2021-06-14T22:40:51.012027Z",
     "shell.execute_reply.started": "2021-06-14T22:40:42.853405Z"
    }
   },
   "outputs": [
    {
     "name": "stdout",
     "output_type": "stream",
     "text": [
      "Validation accuracy: 0.738095223903656\n"
     ]
    },
    {
     "name": "stderr",
     "output_type": "stream",
     "text": [
      "<ipython-input-2-1eb6ec933d2b>:12: UserWarning: Matplotlib is currently using module://ipykernel.pylab.backend_inline, which is a non-GUI backend, so cannot show the figure.\n",
      "  fig.show()\n"
     ]
    },
    {
     "data": {
      "image/png": "[encoded data removed]",
      "text/plain": [
       "<Figure size 720x360 with 2 Axes>"
      ]
     },
     "metadata": {
      "needs_background": "light"
     },
     "output_type": "display_data"
    }
   ],
   "source": [
    "# Model a Binary classifier\n",
    "model_standard = Sequential()\n",
    "model_standard.add(layers.Dense(30, input_dim=60, activation='relu'))\n",
    "model_standard.add(layers.Dense(20, activation='relu'))\n",
    "model_standard.add(layers.Dense(10, activation='relu'))\n",
    "model_standard.add(layers.Dense(5, activation='relu'))\n",
    "model_standard.add(layers.Dense(3, activation='relu'))\n",
    "model_standard.add(layers.Dense(1, activation='sigmoid'))\n",
    "# Define optimizer and loss function\n",
    "model_standard.compile(loss='binary_crossentropy', optimizer='adam', metrics=['accuracy'])\n",
    "# Train the model\n",
    "history_standard = model_standard.fit(X_train, y_train, epochs=1000, batch_size=n_obs,\n",
    "                                      validation_data=(X_test, y_test), verbose=0,\n",
    "                                      callbacks=[callback])\n",
    "print(f\"Validation accuracy: {history_standard.history['val_accuracy'][-1]}\")\n",
    "plot_loss_accuracy(history_standard)"
   ]
  },
  {
   "cell_type": "markdown",
   "metadata": {
    "execution": {
     "iopub.execute_input": "2021-06-14T22:42:54.303893Z",
     "iopub.status.busy": "2021-06-14T22:42:54.303314Z",
     "iopub.status.idle": "2021-06-14T22:42:54.310734Z",
     "shell.execute_reply": "2021-06-14T22:42:54.309951Z",
     "shell.execute_reply.started": "2021-06-14T22:42:54.303844Z"
    }
   },
   "source": [
    "# 3.3 Confusion Matrix\n",
    "\n",
    "Finally let's plot a confusion matrix for the compressed model to evaluate the classification results."
   ]
  },
  {
   "cell_type": "code",
   "execution_count": 16,
   "metadata": {
    "execution": {
     "iopub.execute_input": "2021-06-14T22:43:07.813962Z",
     "iopub.status.busy": "2021-06-14T22:43:07.813274Z",
     "iopub.status.idle": "2021-06-14T22:43:08.184636Z",
     "shell.execute_reply": "2021-06-14T22:43:08.183932Z",
     "shell.execute_reply.started": "2021-06-14T22:43:07.813906Z"
    }
   },
   "outputs": [
    {
     "data": {
      "image/png": "[encoded data removed]",
      "text/plain": [
       "<Figure size 360x360 with 2 Axes>"
      ]
     },
     "metadata": {
      "needs_background": "light"
     },
     "output_type": "display_data"
    }
   ],
   "source": [
    "yhat = model_encoded.predict(X_test_encode)\n",
    "# Map probablities to classes\n",
    "yhat = np.where(yhat > 0.5, 1, 0)\n",
    "cm = confusion_matrix(labels=y_test, predictions=yhat).numpy()\n",
    "plot_confusion_matrix(cm, target_names)\n"
   ]
  },
  {
   "cell_type": "code",
   "execution_count": null,
   "metadata": {},
   "outputs": [],
   "source": []
  }
 ],
 "metadata": {
  "kernelspec": {
   "display_name": "Python 3",
   "language": "python",
   "name": "python3"
  },
  "language_info": {
   "codemirror_mode": {
    "name": "ipython",
    "version": 3
   },
   "file_extension": ".py",
   "mimetype": "text/x-python",
   "name": "python",
   "nbconvert_exporter": "python",
   "pygments_lexer": "ipython3",
   "version": "3.9.5"
  }
 },
 "nbformat": 4,
 "nbformat_minor": 4
}
